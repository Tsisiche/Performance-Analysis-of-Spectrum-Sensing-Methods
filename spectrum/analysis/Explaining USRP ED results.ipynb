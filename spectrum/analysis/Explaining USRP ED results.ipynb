{
 "metadata": {
  "name": ""
 },
 "nbformat": 3,
 "nbformat_minor": 0,
 "worksheets": [
  {
   "cells": [
    {
     "cell_type": "markdown",
     "metadata": {},
     "source": [
      "# Explaining USRP ED results\n",
      "\n",
      "We assume:\n",
      "\n",
      "* Receiver noise figure doesn't change between measurement campaigns\n",
      "* ED detection threshold is directly related to SNR ratio\n",
      "\n",
      "Noise power depends on:\n",
      "\n",
      "* Channel bandwidth (higher bandwidth, higher noise power assuming white noise)\n",
      "* Number of averaged samples. (more samples, lower noise power)\n",
      "\n",
      "From these assumptions:\n",
      "\n",
      "$P_d \\propto SNR = \\frac{P_s}{P_n}$\n",
      "\n",
      "$\\frac{SNR}{SNR'} = \\frac{P_n'}{P_n}$\n",
      "\n",
      "## USRP settings"
     ]
    },
    {
     "cell_type": "code",
     "collapsed": false,
     "input": [
      "BW1 = 1e6\n",
      "Ns1 = 25e3\n",
      "\n",
      "BW2 = 2e6\n",
      "Ns2 = 25e3\n",
      "\n",
      "BW3 = 10e6\n",
      "Ns3 =100e3"
     ],
     "language": "python",
     "metadata": {},
     "outputs": [],
     "prompt_number": 3
    },
    {
     "cell_type": "markdown",
     "metadata": {},
     "source": [
      "## Relative noise powers, for different bandwidths of the antialiasing filter.\n",
      "\n",
      "Note: USRP sets antialiasing filter to bandwidth that is the same as sampling frequency. But since we discard the imaginary part of the samples, digital bandwidth is only half of that."
     ]
    },
    {
     "cell_type": "code",
     "collapsed": false,
     "input": [
      "Pn1 = 10.*log10(BW1)\n",
      "print \"Pn1 =\", Pn1, \"dB\""
     ],
     "language": "python",
     "metadata": {},
     "outputs": [
      {
       "output_type": "stream",
       "stream": "stdout",
       "text": [
        "Pn1 = 60.0 dB\n"
       ]
      }
     ],
     "prompt_number": 19
    },
    {
     "cell_type": "code",
     "collapsed": false,
     "input": [
      "Pn2 = 10.*log10(BW2)\n",
      "print \"Pn2 = Pn1 +\", Pn2 - Pn1, \"dB\""
     ],
     "language": "python",
     "metadata": {},
     "outputs": [
      {
       "output_type": "stream",
       "stream": "stdout",
       "text": [
        "Pn2 = Pn1 + 3.01029995664 dB\n"
       ]
      }
     ],
     "prompt_number": 34
    },
    {
     "cell_type": "code",
     "collapsed": false,
     "input": [
      "Pn3 = 10.*log10(BW3)\n",
      "print \"Pn3 = Pn1 +\", Pn3 - Pn1, \"dB\""
     ],
     "language": "python",
     "metadata": {},
     "outputs": [
      {
       "output_type": "stream",
       "stream": "stdout",
       "text": [
        "Pn3 = Pn1 + 10.0 dB\n"
       ]
      }
     ],
     "prompt_number": 35
    },
    {
     "cell_type": "markdown",
     "metadata": {},
     "source": [
      "Reduction in noise power due to averaging."
     ]
    },
    {
     "cell_type": "code",
     "collapsed": false,
     "input": [
      "Pm1 = -10.*log10(Ns1)\n",
      "print \"Pm1 =\", Pm1, \"dB\""
     ],
     "language": "python",
     "metadata": {},
     "outputs": [
      {
       "output_type": "stream",
       "stream": "stdout",
       "text": [
        "Pm1 = -43.9794000867 dB\n"
       ]
      }
     ],
     "prompt_number": 36
    },
    {
     "cell_type": "code",
     "collapsed": false,
     "input": [
      "Pm2 = -10.*log10(Ns2)\n",
      "print \"Pm2 = Pm1 +\", Pm2 - Pm1, \"dB\""
     ],
     "language": "python",
     "metadata": {},
     "outputs": [
      {
       "output_type": "stream",
       "stream": "stdout",
       "text": [
        "Pm2 = Pm1 + 0.0 dB\n"
       ]
      }
     ],
     "prompt_number": 37
    },
    {
     "cell_type": "code",
     "collapsed": false,
     "input": [
      "Pm3 = -10.*log10(Ns3)\n",
      "print \"Pm2 = Pm1 +\", Pm3 - Pm1, \"dB\""
     ],
     "language": "python",
     "metadata": {},
     "outputs": [
      {
       "output_type": "stream",
       "stream": "stdout",
       "text": [
        "Pm2 = Pm1 + -6.02059991328 dB\n"
       ]
      }
     ],
     "prompt_number": 38
    },
    {
     "cell_type": "markdown",
     "metadata": {},
     "source": [
      "Combine both effects and compare with experiment results:"
     ]
    },
    {
     "cell_type": "code",
     "collapsed": false,
     "input": [
      "P1 = Pn1 + Pm1\n",
      "print \"P1 =\", P1, \"dB\"\n",
      "\n",
      "Pex1 = -116.1\n",
      "print \"Pex1 =\", Pex1, \"dB\""
     ],
     "language": "python",
     "metadata": {},
     "outputs": [
      {
       "output_type": "stream",
       "stream": "stdout",
       "text": [
        "P1 = 16.0205999133 dB\n",
        "Pex1 = -116.1 dB\n"
       ]
      }
     ],
     "prompt_number": 46
    },
    {
     "cell_type": "code",
     "collapsed": false,
     "input": [
      "P2 = Pn2 + Pm2\n",
      "print \"P2 = P1 + \", P2 - P1, \"dB\"\n",
      "\n",
      "Pex2 = -113.5\n",
      "print \"Pex2 = Pex1 +\", Pex2 - Pex1, \"dB\""
     ],
     "language": "python",
     "metadata": {},
     "outputs": [
      {
       "output_type": "stream",
       "stream": "stdout",
       "text": [
        "P2 = P1 +  3.01029995664 dB\n",
        "Pex2 = Pex1 + 2.6 dB\n"
       ]
      }
     ],
     "prompt_number": 47
    },
    {
     "cell_type": "code",
     "collapsed": false,
     "input": [
      "P3 = Pn3 + Pm3\n",
      "print \"P3 = P1 + \", P3 - P1, \"dB\"\n",
      "\n",
      "Pex3 = -111.6\n",
      "print \"Pex3 = Pex1 +\", Pex3 - Pex1, \"dB\""
     ],
     "language": "python",
     "metadata": {},
     "outputs": [
      {
       "output_type": "stream",
       "stream": "stdout",
       "text": [
        "P3 = P1 +  3.97940008672 dB\n",
        "Pex3 = Pex1 + 4.5 dB\n"
       ]
      }
     ],
     "prompt_number": 48
    },
    {
     "cell_type": "markdown",
     "metadata": {},
     "source": [
      "## Comparing with analog ED"
     ]
    },
    {
     "cell_type": "code",
     "collapsed": false,
     "input": [
      "BWa = 1.7e6"
     ],
     "language": "python",
     "metadata": {},
     "outputs": [],
     "prompt_number": 49
    },
    {
     "cell_type": "code",
     "collapsed": false,
     "input": [
      "Pna = 10.*log10(BWa)"
     ],
     "language": "python",
     "metadata": {},
     "outputs": [],
     "prompt_number": 50
    },
    {
     "cell_type": "code",
     "collapsed": false,
     "input": [
      "Pn1 = 10.*log10(BW1)\n",
      "print \"Pn1 = Pna + \", Pn1 - Pna, \"dB\"\n",
      "\n",
      "Pexa1 = -120.5\n",
      "print \"Pex1 = Pexa1 +\", Pex1 - Pexa1, \"dB\""
     ],
     "language": "python",
     "metadata": {},
     "outputs": [
      {
       "output_type": "stream",
       "stream": "stdout",
       "text": [
        "Pn1 = Pna +  -2.30448921378 dB\n",
        "Pex1 = Pexa1 + 4.4 dB\n"
       ]
      }
     ],
     "prompt_number": 62
    },
    {
     "cell_type": "code",
     "collapsed": false,
     "input": [
      "Pn2 = 10.*log10(BW2)\n",
      "print \"Pn2 = Pna + \", Pn2 - Pna, \"dB\"\n",
      "\n",
      "Pexa2 = -119.5\n",
      "print \"Pex2 = Pexa2 +\", Pex2 - Pexa2, \"dB\""
     ],
     "language": "python",
     "metadata": {},
     "outputs": [
      {
       "output_type": "stream",
       "stream": "stdout",
       "text": [
        "Pn2 = Pna +  0.705810742857 dB\n",
        "Pex2 = Pexa2 + 6.0 dB\n"
       ]
      }
     ],
     "prompt_number": 63
    },
    {
     "cell_type": "code",
     "collapsed": false,
     "input": [
      "Pn3 = 10.*log10(BW3)\n",
      "print \"Pn3 = Pna + \", Pn3 - Pna, \"dB\"\n",
      "\n",
      "Pexa3 = -119.1\n",
      "print \"Pex3 = Pexa3 +\", Pex3 - Pexa3, \"dB\""
     ],
     "language": "python",
     "metadata": {},
     "outputs": [
      {
       "output_type": "stream",
       "stream": "stdout",
       "text": [
        "Pn3 = Pna +  7.69551078622 dB\n",
        "Pex3 = Pexa3 + 7.5 dB\n"
       ]
      }
     ],
     "prompt_number": 64
    },
    {
     "cell_type": "code",
     "collapsed": false,
     "input": [],
     "language": "python",
     "metadata": {},
     "outputs": []
    }
   ],
   "metadata": {}
  }
 ]
}