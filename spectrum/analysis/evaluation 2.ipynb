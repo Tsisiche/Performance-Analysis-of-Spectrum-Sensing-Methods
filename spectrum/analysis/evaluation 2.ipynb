{
 "metadata": {
  "name": "evaluation 2.ipynb"
 },
 "nbformat": 3,
 "nbformat_minor": 0,
 "worksheets": [
  {
   "cells": [
    {
     "cell_type": "code",
     "collapsed": false,
     "input": [
      "import numpy\n",
      "import re\n",
      "import glob\n",
      "from IPython.core.display import Image\n",
      "import sys\n",
      "\n",
      "Att = 30\n",
      "\n",
      "fsSNE = 1/6.8e-6\n",
      "\n",
      "print \"fsSNE = \", fsSNE\n",
      "\n",
      "ts =[25.0e-3, 12.5e-3, 10.0e-3]\n",
      "\n",
      "for i in ts:\n",
      "    NsSNE =numpy.round(i*fsSNE)\n",
      "    print \"NsSNE =\", NsSNE\n",
      "\n",
      "Pdmin = 0.9\n",
      "\n",
      "Pfa = 0.1\n",
      "\n",
      "Np = 1000\n",
      "\n",
      "def get_ccdf(x):\n",
      "    \n",
      "    xs = array(x)\n",
      "    xs.sort()\n",
      "    N = float(len(xs))\n",
      "    P = arange(N)/N\n",
      "    \n",
      "    return xs, P\n",
      "\n",
      "def get_gamma0(gammaN):\n",
      "    \n",
      "    gammaN, Pd = get_ccdf(gammaN)\n",
      "    gamma0 = interp(1. - Pfa, Pd, gammaN)\n",
      "    \n",
      "    return gamma0\n",
      "\n",
      "gammaN = loadtxt(\"../measurements/pd/usrp/data.dat\")\n",
      "gamma0 = get_gamma0(gammaN)\n",
      "\n",
      "gammaNs, Pd = get_ccdf(gammaN)\n",
      "plot(gammaNs, 1.-Pd)\n",
      "plot([gamma0, gamma0], [0, 1], 'b--')\n",
      "plot([2e-5, 3e-5], [Pfa, Pfa], 'b--')\n",
      "axis([2e-5, 3e-5, 0, 1])\n",
      "title(\"CCDF\")\n",
      "xlabel(\"$\\gamma_0$\")\n",
      "ylabel(\"$P_{fa}$\")\n",
      "grid()"
     ],
     "language": "python",
     "metadata": {},
     "outputs": [
      {
       "ename": "IOError",
       "evalue": "[Errno 2] No such file or directory: '../measurements/pd/usrp/data.dat'",
       "output_type": "pyerr",
       "traceback": [
        "\u001b[1;31m---------------------------------------------------------------------------\u001b[0m\n\u001b[1;31mIOError\u001b[0m                                   Traceback (most recent call last)",
        "\u001b[1;32m<ipython-input-3-2be4483541a7>\u001b[0m in \u001b[0;36m<module>\u001b[1;34m()\u001b[0m\n\u001b[0;32m     39\u001b[0m     \u001b[1;32mreturn\u001b[0m \u001b[0mgamma0\u001b[0m\u001b[1;33m\u001b[0m\u001b[0m\n\u001b[0;32m     40\u001b[0m \u001b[1;33m\u001b[0m\u001b[0m\n\u001b[1;32m---> 41\u001b[1;33m \u001b[0mgammaN\u001b[0m \u001b[1;33m=\u001b[0m \u001b[0mloadtxt\u001b[0m\u001b[1;33m(\u001b[0m\u001b[1;34m\"../measurements/pd/usrp/data.dat\"\u001b[0m\u001b[1;33m)\u001b[0m\u001b[1;33m\u001b[0m\u001b[0m\n\u001b[0m\u001b[0;32m     42\u001b[0m \u001b[0mgamma0\u001b[0m \u001b[1;33m=\u001b[0m \u001b[0mget_gamma0\u001b[0m\u001b[1;33m(\u001b[0m\u001b[0mgammaN\u001b[0m\u001b[1;33m)\u001b[0m\u001b[1;33m\u001b[0m\u001b[0m\n\u001b[0;32m     43\u001b[0m \u001b[1;33m\u001b[0m\u001b[0m\n",
        "\u001b[1;32mC:\\Users\\NICKSON\\AppData\\Local\\Enthought\\Canopy32\\User\\lib\\site-packages\\numpy\\lib\\npyio.pyc\u001b[0m in \u001b[0;36mloadtxt\u001b[1;34m(fname, dtype, comments, delimiter, converters, skiprows, usecols, unpack, ndmin)\u001b[0m\n\u001b[0;32m    727\u001b[0m                 \u001b[0mfh\u001b[0m \u001b[1;33m=\u001b[0m \u001b[0miter\u001b[0m\u001b[1;33m(\u001b[0m\u001b[0mbz2\u001b[0m\u001b[1;33m.\u001b[0m\u001b[0mBZ2File\u001b[0m\u001b[1;33m(\u001b[0m\u001b[0mfname\u001b[0m\u001b[1;33m)\u001b[0m\u001b[1;33m)\u001b[0m\u001b[1;33m\u001b[0m\u001b[0m\n\u001b[0;32m    728\u001b[0m             \u001b[1;32melse\u001b[0m\u001b[1;33m:\u001b[0m\u001b[1;33m\u001b[0m\u001b[0m\n\u001b[1;32m--> 729\u001b[1;33m                 \u001b[0mfh\u001b[0m \u001b[1;33m=\u001b[0m \u001b[0miter\u001b[0m\u001b[1;33m(\u001b[0m\u001b[0mopen\u001b[0m\u001b[1;33m(\u001b[0m\u001b[0mfname\u001b[0m\u001b[1;33m,\u001b[0m \u001b[1;34m'U'\u001b[0m\u001b[1;33m)\u001b[0m\u001b[1;33m)\u001b[0m\u001b[1;33m\u001b[0m\u001b[0m\n\u001b[0m\u001b[0;32m    730\u001b[0m         \u001b[1;32melse\u001b[0m\u001b[1;33m:\u001b[0m\u001b[1;33m\u001b[0m\u001b[0m\n\u001b[0;32m    731\u001b[0m             \u001b[0mfh\u001b[0m \u001b[1;33m=\u001b[0m \u001b[0miter\u001b[0m\u001b[1;33m(\u001b[0m\u001b[0mfname\u001b[0m\u001b[1;33m)\u001b[0m\u001b[1;33m\u001b[0m\u001b[0m\n",
        "\u001b[1;31mIOError\u001b[0m: [Errno 2] No such file or directory: '../measurements/pd/usrp/data.dat'"
       ]
      },
      {
       "output_type": "stream",
       "stream": "stdout",
       "text": [
        "fsSNE =  147058.823529\n",
        "NsSNE = 3676.0\n",
        "NsSNE = 1838.0\n",
        "NsSNE = 1471.0\n"
       ]
      }
     ],
     "prompt_number": 3
    },
    {
     "cell_type": "code",
     "collapsed": false,
     "input": [],
     "language": "python",
     "metadata": {},
     "outputs": [],
     "prompt_number": 3
    },
    {
     "cell_type": "code",
     "collapsed": false,
     "input": [],
     "language": "python",
     "metadata": {},
     "outputs": []
    }
   ],
   "metadata": {}
  }
 ]
}